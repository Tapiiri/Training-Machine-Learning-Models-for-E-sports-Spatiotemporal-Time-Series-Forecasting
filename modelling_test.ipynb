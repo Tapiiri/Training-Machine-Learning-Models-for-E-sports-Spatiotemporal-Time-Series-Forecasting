{
 "cells": [
  {
   "cell_type": "code",
   "execution_count": 58,
   "metadata": {},
   "outputs": [],
   "source": [
    "import numpy as np\n",
    "import pandas as pd\n",
    "\n",
    "import joblib\n",
    "import sqlite3\n",
    "import operator as op\n",
    "\n",
    "from sklearn.model_selection import train_test_split\n",
    "from sklearn.linear_model import LinearRegression\n",
    "from sklearn.metrics import mean_squared_error, r2_score, root_mean_squared_error\n",
    "from collections import defaultdict\n",
    "from tqdm.notebook import tqdm\n",
    "\n",
    "from utils.get_or_create_combined_database import get_or_create_combined_database\n",
    "from utils.create_compound_key_and_index import create_compound_key_and_index\n",
    "\n",
    "from concurrent.futures import ProcessPoolExecutor\n",
    "\n",
    "from constants import DB_columns, GAME_AREA_WIDTH\n",
    "\n",
    "from matplotlib import pyplot as plt\n",
    "\n",
    "import os\n",
    "from dotenv import load_dotenv\n",
    "load_dotenv(verbose=True, override=True)\n",
    "\n",
    "RECREATE_CLEANED_DATA = False\n",
    "\n",
    "zoom_range = ((75, 14350), (75, 14350))\n",
    "normalized_zoom_range = ((0, 1), (0, 1))"
   ]
  },
  {
   "cell_type": "code",
   "execution_count": 2,
   "metadata": {},
   "outputs": [
    {
     "name": "stdout",
     "output_type": "stream",
     "text": [
      "Found 2 database files in the folder specified by DATABASE_FOLDER\n",
      "Found combined database /u/23/tarpill1/unix/Documents/combined2.db\n",
      "Loaded 5 rows from the database as a test\n"
     ]
    },
    {
     "data": {
      "text/plain": [
       "[('Mordekaiser',\n",
       "  604.0,\n",
       "  612.0,\n",
       "  1.005585,\n",
       "  645.0,\n",
       "  100,\n",
       "  2841236401,\n",
       "  '2841236401_100_Mordekaiser'),\n",
       " ('Viego',\n",
       "  664.0,\n",
       "  286.0,\n",
       "  1.005585,\n",
       "  630.0,\n",
       "  100,\n",
       "  2841236401,\n",
       "  '2841236401_100_Viego'),\n",
       " ('Riven',\n",
       "  364.0,\n",
       "  136.0,\n",
       "  1.005585,\n",
       "  645.0,\n",
       "  100,\n",
       "  2841236401,\n",
       "  '2841236401_100_Riven'),\n",
       " ('Ezreal',\n",
       "  132.0,\n",
       "  402.0,\n",
       "  1.005585,\n",
       "  600.0,\n",
       "  100,\n",
       "  2841236401,\n",
       "  '2841236401_100_Ezreal'),\n",
       " ('Leblanc',\n",
       "  298.0,\n",
       "  676.0,\n",
       "  1.005585,\n",
       "  598.0,\n",
       "  100,\n",
       "  2841236401,\n",
       "  '2841236401_100_Leblanc')]"
      ]
     },
     "execution_count": 2,
     "metadata": {},
     "output_type": "execute_result"
    }
   ],
   "source": [
    "database_folder = os.getenv(\"DATABASE_FOLDER\")\n",
    "\n",
    "database_file = get_or_create_combined_database(database_folder)\n",
    "\n",
    "conn = sqlite3.connect(database_file)\n",
    "cursor = conn.cursor()\n",
    "\n",
    "tlol_db_table_name = \"champs\"\n",
    "\n",
    "page_size = 5\n",
    "\n",
    "rows = cursor.execute(\n",
    "    f\"SELECT * FROM {tlol_db_table_name} LIMIT {page_size}\").fetchall()\n",
    "conn.close()\n",
    "print(f\"Loaded {len(rows)} rows from the database as a test\")\n",
    "\n",
    "rows[0:5]"
   ]
  },
  {
   "cell_type": "code",
   "execution_count": 3,
   "metadata": {},
   "outputs": [],
   "source": [
    "cleaned_table_name = f\"{tlol_db_table_name}_cleaned\"\n",
    "\n",
    "\n",
    "# Create a new table for cleaned up data\n",
    "if RECREATE_CLEANED_DATA:\n",
    "    conn = sqlite3.connect(database_file)\n",
    "    cursor = conn.cursor()\n",
    "\n",
    "    # Drop previous table\n",
    "    cursor.execute(f\"DROP TABLE IF EXISTS {cleaned_table_name}\")\n",
    "\n",
    "    conn.commit()\n",
    "\n",
    "    cursor.execute(\n",
    "        f\"CREATE TABLE {cleaned_table_name} AS SELECT * FROM {tlol_db_table_name} WHERE 1=0\")\n",
    "\n",
    "    # Add normalized columns\n",
    "\n",
    "    cursor.execute(\n",
    "        f\"ALTER TABLE {cleaned_table_name} ADD COLUMN {DB_columns.NORMALIZED_POS_X.value} FLOAT GENERATED ALWAYS AS ({DB_columns.POS_X.value} / {GAME_AREA_WIDTH}) STORED\")\n",
    "    cursor.execute(\n",
    "        f\"ALTER TABLE {cleaned_table_name} ADD COLUMN {DB_columns.NORMALIZED_POS_Z.value} FLOAT GENERATED ALWAYS AS ({DB_columns.POS_Z.value} / {GAME_AREA_WIDTH}) STORED\")\n",
    "    conn.commit()\n",
    "    conn.close()"
   ]
  },
  {
   "cell_type": "code",
   "execution_count": 4,
   "metadata": {},
   "outputs": [],
   "source": [
    "# Add data to the new table from original table according to a filter\n",
    "\n",
    "# Conditions:\n",
    "# Only rows with a name that is not empty\n",
    "not_empty_name = f\"{DB_columns.NAME.value} IS NOT ''\"\n",
    "\n",
    "# Only rows with a name that is not \"Turret\"\n",
    "\n",
    "# Only rows with timestamp greater than 5\n",
    "timestamp_greater_than_5 = f\"{DB_columns.TIME.value} > 5\"\n",
    "\n",
    "# Only rows with pos_x and pos_y greater between [0, GAME_AREA_WIDTH]\n",
    "pos_x_greater_than_0 = f\"{DB_columns.POS_X.value} > 0\"\n",
    "pos_x_less_than_max = f\"{DB_columns.POS_X.value} < {GAME_AREA_WIDTH}\"\n",
    "pos_z_greater_than_0 = f\"{DB_columns.POS_Z.value} > 0\"\n",
    "pos_z_less_than_max = f\"{DB_columns.POS_Z.value} < {GAME_AREA_WIDTH}\"\n",
    "position_between_0_and_max = \" AND \".join(\n",
    "    [pos_x_greater_than_0, pos_x_less_than_max, pos_z_greater_than_0, pos_z_less_than_max])\n",
    "\n",
    "# Combine all above filters\n",
    "\n",
    "filter_conditions = \" AND \".join(\n",
    "    [not_empty_name, timestamp_greater_than_5, position_between_0_and_max])"
   ]
  },
  {
   "cell_type": "code",
   "execution_count": 5,
   "metadata": {},
   "outputs": [],
   "source": [
    "# Add cleaned indices to new table\n",
    "if RECREATE_CLEANED_DATA:\n",
    "    conn = sqlite3.connect(database_file)\n",
    "    cursor = conn.cursor()\n",
    "\n",
    "    cursor.execute(\n",
    "        f\"INSERT INTO {cleaned_table_name} SELECT * FROM {tlol_db_table_name} WHERE {filter_conditions}\")\n",
    "\n",
    "    conn.commit()\n",
    "    conn.close()"
   ]
  },
  {
   "cell_type": "code",
   "execution_count": 6,
   "metadata": {},
   "outputs": [
    {
     "data": {
      "text/plain": [
       "[('Mordekaiser',\n",
       "  604.0,\n",
       "  612.0,\n",
       "  5.5419455,\n",
       "  645.0,\n",
       "  100,\n",
       "  2841236401,\n",
       "  '2841236401_100_Mordekaiser',\n",
       "  0.040266666666666666,\n",
       "  0.0408),\n",
       " ('Viego',\n",
       "  786.0,\n",
       "  436.0,\n",
       "  5.5419455,\n",
       "  630.0,\n",
       "  100,\n",
       "  2841236401,\n",
       "  '2841236401_100_Viego',\n",
       "  0.0524,\n",
       "  0.029066666666666668),\n",
       " ('Riven',\n",
       "  364.0,\n",
       "  136.0,\n",
       "  5.5419455,\n",
       "  745.0,\n",
       "  100,\n",
       "  2841236401,\n",
       "  '2841236401_100_Riven',\n",
       "  0.024266666666666666,\n",
       "  0.009066666666666667),\n",
       " ('Ezreal',\n",
       "  132.0,\n",
       "  402.0,\n",
       "  5.5419455,\n",
       "  600.0,\n",
       "  100,\n",
       "  2841236401,\n",
       "  '2841236401_100_Ezreal',\n",
       "  0.0088,\n",
       "  0.0268),\n",
       " ('Leblanc',\n",
       "  298.0,\n",
       "  676.0,\n",
       "  5.5419455,\n",
       "  598.0,\n",
       "  100,\n",
       "  2841236401,\n",
       "  '2841236401_100_Leblanc',\n",
       "  0.019866666666666668,\n",
       "  0.045066666666666665)]"
      ]
     },
     "execution_count": 6,
     "metadata": {},
     "output_type": "execute_result"
    }
   ],
   "source": [
    "# Check values from the new table\n",
    "\n",
    "conn = sqlite3.connect(database_file)\n",
    "cursor = conn.cursor()\n",
    "\n",
    "page_size = 5\n",
    "\n",
    "rows = cursor.execute(\n",
    "    f\"SELECT * FROM {cleaned_table_name} LIMIT {page_size}\").fetchall()\n",
    "\n",
    "conn.close()\n",
    "\n",
    "rows"
   ]
  },
  {
   "cell_type": "code",
   "execution_count": 7,
   "metadata": {},
   "outputs": [
    {
     "name": "stdout",
     "output_type": "stream",
     "text": [
      "Compound key and index created for table 'champs_cleaned' with key expression: game_id || '_' || team || '_' || name\n",
      "[(0, 'champs_cleaned_name_index', 0, 'c', 0), (1, 'champs_cleaned_compound_key_idx', 0, 'c', 0)]\n",
      "[(0, 'name', 'TEXT', 0, None, 0), (1, 'pos_x', 'REAL', 0, None, 0), (2, 'pos_z', 'REAL', 0, None, 0), (3, 'time', 'REAL', 0, None, 0), (4, 'hp', 'REAL', 0, None, 0), (5, 'team', 'INT', 0, None, 0), (6, 'game_id', 'INT', 0, None, 0), (7, 'compound_key', 'TEXT', 0, None, 0)]\n"
     ]
    }
   ],
   "source": [
    "# Create indices for given columns\n",
    "\n",
    "conn = sqlite3.connect(database_file)\n",
    "cursor = conn.cursor()\n",
    "\n",
    "\n",
    "def create_index(cursor, table_name, column_name):\n",
    "    if RECREATE_CLEANED_DATA:\n",
    "        cursor.execute(\n",
    "            f\"DROP INDEX IF EXISTS {table_name}_{column_name}_index\")\n",
    "        cursor.execute(\n",
    "            f\"CREATE INDEX IF NOT EXISTS {table_name}_{column_name}_index ON {table_name}({column_name})\")\n",
    "\n",
    "\n",
    "columns_to_be_indexed = [DB_columns.NAME.value]\n",
    "\n",
    "for column in columns_to_be_indexed:\n",
    "    create_index(cursor, cleaned_table_name, column)\n",
    "conn.commit()\n",
    "conn.close()\n",
    "\n",
    "# List out indices\n",
    "\n",
    "conn = sqlite3.connect(database_file)\n",
    "cursor = conn.cursor()\n",
    "\n",
    "\n",
    "print(create_compound_key_and_index(database_file, cleaned_table_name, [\n",
    "    DB_columns.GAME_ID.value, DB_columns.TEAM.value, DB_columns.NAME.value]))\n",
    "\n",
    "indices = cursor.execute(\n",
    "    f\"PRAGMA index_list({cleaned_table_name})\").fetchall()\n",
    "\n",
    "table_info = cursor.execute(\n",
    "    f\"PRAGMA table_info({cleaned_table_name})\").fetchall()\n",
    "\n",
    "conn.close()\n",
    "\n",
    "print(indices)\n",
    "print(table_info)"
   ]
  },
  {
   "cell_type": "code",
   "execution_count": 8,
   "metadata": {},
   "outputs": [
    {
     "data": {
      "text/plain": [
       "(100580, 65821670)"
      ]
     },
     "execution_count": 8,
     "metadata": {},
     "output_type": "execute_result"
    }
   ],
   "source": [
    "def get_counts(cursor, table_name, filter):\n",
    "    cursor.execute(\n",
    "        f\"SELECT COUNT(DISTINCT {DB_columns.COMPOUND_KEY.value}) FROM {table_name} WHERE {filter}\")\n",
    "    unique_keys = cursor.fetchone()[0]\n",
    "    cursor.execute(\n",
    "        f\"SELECT COUNT(*), {DB_columns.COMPOUND_KEY.value} FROM {table_name} WHERE {filter} GROUP BY {DB_columns.COMPOUND_KEY.value} ORDER BY {DB_columns.COMPOUND_KEY.value}\")\n",
    "    counts = cursor.fetchall()\n",
    "    return unique_keys, counts\n",
    "\n",
    "\n",
    "conn = sqlite3.connect(database_file)\n",
    "cursor = conn.cursor()\n",
    "\n",
    "filter = \"1=1\"  # f\"{DB_columns.NAME.value} = 'Ezreal'\"\n",
    "\n",
    "unique_keys, counts = get_counts(cursor, cleaned_table_name, filter)\n",
    "conn.close()\n",
    "\n",
    "offsets = []\n",
    "cumulative_sum = 0\n",
    "\n",
    "for count in counts:\n",
    "    offsets.append(cumulative_sum)\n",
    "    cumulative_sum += count[0]\n",
    "offsets.append(cumulative_sum)\n",
    "\n",
    "unique_keys, cumulative_sum"
   ]
  },
  {
   "cell_type": "code",
   "execution_count": 9,
   "metadata": {},
   "outputs": [
    {
     "data": {
      "application/vnd.jupyter.widget-view+json": {
       "model_id": "1bf19113c5b14a37a7a9c3fffa3ea1da",
       "version_major": 2,
       "version_minor": 0
      },
      "text/plain": [
       "  0%|          | 0/3296345 [00:00<?, ?it/s]"
      ]
     },
     "metadata": {},
     "output_type": "display_data"
    },
    {
     "data": {
      "application/vnd.jupyter.widget-view+json": {
       "model_id": "87e78f09319b47a5851bc05dda1028e0",
       "version_major": 2,
       "version_minor": 0
      },
      "text/plain": [
       "  0%|          | 0/502 [00:00<?, ?it/s]"
      ]
     },
     "metadata": {},
     "output_type": "display_data"
    },
    {
     "data": {
      "application/vnd.jupyter.widget-view+json": {
       "model_id": "74ab3b2714324e42a49a7eea9b4ef9a1",
       "version_major": 2,
       "version_minor": 0
      },
      "text/plain": [
       "  0%|          | 0/502 [00:00<?, ?it/s]"
      ]
     },
     "metadata": {},
     "output_type": "display_data"
    },
    {
     "data": {
      "application/vnd.jupyter.widget-view+json": {
       "model_id": "77e3bc3b3daa49e1b57b424d5414f42c",
       "version_major": 2,
       "version_minor": 0
      },
      "text/plain": [
       "  0%|          | 0/502 [00:00<?, ?it/s]"
      ]
     },
     "metadata": {},
     "output_type": "display_data"
    },
    {
     "data": {
      "application/vnd.jupyter.widget-view+json": {
       "model_id": "1f0bd5527cb44cf4b5b55edb43be05b6",
       "version_major": 2,
       "version_minor": 0
      },
      "text/plain": [
       "  0%|          | 0/502 [00:00<?, ?it/s]"
      ]
     },
     "metadata": {},
     "output_type": "display_data"
    },
    {
     "data": {
      "application/vnd.jupyter.widget-view+json": {
       "model_id": "d7f1b5412198459e922e245603d93e6e",
       "version_major": 2,
       "version_minor": 0
      },
      "text/plain": [
       "  0%|          | 0/502 [00:00<?, ?it/s]"
      ]
     },
     "metadata": {},
     "output_type": "display_data"
    },
    {
     "data": {
      "application/vnd.jupyter.widget-view+json": {
       "model_id": "0a71c58c4e114fe6b39461780d0275cb",
       "version_major": 2,
       "version_minor": 0
      },
      "text/plain": [
       "  0%|          | 0/502 [00:00<?, ?it/s]"
      ]
     },
     "metadata": {},
     "output_type": "display_data"
    },
    {
     "data": {
      "application/vnd.jupyter.widget-view+json": {
       "model_id": "8343a7ec449b468f9412e29ee2211c4b",
       "version_major": 2,
       "version_minor": 0
      },
      "text/plain": [
       "  0%|          | 0/502 [00:00<?, ?it/s]"
      ]
     },
     "metadata": {},
     "output_type": "display_data"
    },
    {
     "data": {
      "application/vnd.jupyter.widget-view+json": {
       "model_id": "b2af4c740d54425e9f01be795d737046",
       "version_major": 2,
       "version_minor": 0
      },
      "text/plain": [
       "  0%|          | 0/502 [00:00<?, ?it/s]"
      ]
     },
     "metadata": {},
     "output_type": "display_data"
    },
    {
     "data": {
      "application/vnd.jupyter.widget-view+json": {
       "model_id": "c629151c1b8a466cb3d4df6dd2732638",
       "version_major": 2,
       "version_minor": 0
      },
      "text/plain": [
       "  0%|          | 0/502 [00:00<?, ?it/s]"
      ]
     },
     "metadata": {},
     "output_type": "display_data"
    },
    {
     "data": {
      "application/vnd.jupyter.widget-view+json": {
       "model_id": "451e34cbd1c5473098e69c56f6e7a0c8",
       "version_major": 2,
       "version_minor": 0
      },
      "text/plain": [
       "  0%|          | 0/511 [00:00<?, ?it/s]"
      ]
     },
     "metadata": {},
     "output_type": "display_data"
    },
    {
     "name": "stdout",
     "output_type": "stream",
     "text": [
      "Got 5029 keys\n"
     ]
    }
   ],
   "source": [
    "def get_data_by_compound_key(cursor, table_name, offset, limit, filter):\n",
    "    return cursor.execute(\n",
    "        f\"SELECT {DB_columns.NORMALIZED_POS_Z.value}, {DB_columns.NORMALIZED_POS_X.value} FROM {table_name} WHERE {filter} ORDER BY {DB_columns.COMPOUND_KEY.value} LIMIT {limit} OFFSET {offset}\"\n",
    "    ).fetchall()\n",
    "\n",
    "\n",
    "def get_data(cursor, table_name, offset, limit, counts, offsets, total, filter):\n",
    "    all_rows = get_data_by_compound_key(\n",
    "        cursor, table_name, offset, limit, filter)\n",
    "\n",
    "    rows_per_key = defaultdict(list)\n",
    "\n",
    "    for i in tqdm(range(total)):\n",
    "        result_offset = offsets[i] - offset\n",
    "        result_count = counts[i][0]\n",
    "        key_slice = all_rows[result_offset:result_offset + result_count]\n",
    "        if len(key_slice) > 0:\n",
    "            rows_per_key[counts[i][1]].extend(key_slice)\n",
    "\n",
    "    return rows_per_key\n",
    "\n",
    "\n",
    "conn = sqlite3.connect(database_file)\n",
    "cursor = conn.cursor()\n",
    "\n",
    "# Adjust this based on the actual number of compound keys\n",
    "total = int(unique_keys / 20)\n",
    "total_count = offsets[total]\n",
    "\n",
    "batches = min(total, 10)  # Update the number of batches as required\n",
    "\n",
    "batch_key_counts = [int(total / batches)] * batches\n",
    "batch_key_counts[-1] += total % batches\n",
    "\n",
    "batch_offsets = []\n",
    "batch_counts = []\n",
    "batch_cumulative_sum = []\n",
    "cumulative_sum = 0\n",
    "\n",
    "for count in batch_key_counts:\n",
    "    batch_offsets.append(offsets[cumulative_sum:count + cumulative_sum])\n",
    "    batch_counts.append(counts[cumulative_sum:count + cumulative_sum])\n",
    "    batch_cumulative_sum.append(cumulative_sum)\n",
    "    cumulative_sum += count\n",
    "\n",
    "rows_per_key = defaultdict(list)\n",
    "with tqdm(total=total_count) as pbar:  # Adjust the progress bar total if needed\n",
    "    for i in range(batches):\n",
    "        offset = offsets[batch_cumulative_sum[i]]\n",
    "        limit = offsets[batch_cumulative_sum[i] + batch_key_counts[i]] - offset\n",
    "        keys_per_batch = batch_key_counts[i]\n",
    "\n",
    "        offsets_of_batch = batch_offsets[i]\n",
    "        counts_of_batch = batch_counts[i]\n",
    "\n",
    "        batch_rows_per_key = get_data(\n",
    "            cursor, cleaned_table_name, offset, limit, counts_of_batch, offsets_of_batch, keys_per_batch, filter)\n",
    "        for key, rows in batch_rows_per_key.items():\n",
    "            pbar.update(len(rows))\n",
    "            rows_per_key[key].extend(rows)\n",
    "\n",
    "conn.close()\n",
    "\n",
    "print(f\"Got {len(rows_per_key)} keys\")"
   ]
  },
  {
   "cell_type": "code",
   "execution_count": 10,
   "metadata": {},
   "outputs": [],
   "source": [
    "data = np.array(list(rows_per_key.values()), dtype=object)"
   ]
  },
  {
   "cell_type": "code",
   "execution_count": 11,
   "metadata": {},
   "outputs": [
    {
     "data": {
      "application/vnd.jupyter.widget-view+json": {
       "model_id": "ec1fe1b3361e4b899a53431c19dacf8c",
       "version_major": 2,
       "version_minor": 0
      },
      "text/plain": [
       "  0%|          | 0/5029 [00:00<?, ?it/s]"
      ]
     },
     "metadata": {},
     "output_type": "display_data"
    },
    {
     "data": {
      "text/plain": [
       "((3281258, 3, 2), (3281258, 1, 2))"
      ]
     },
     "execution_count": 11,
     "metadata": {},
     "output_type": "execute_result"
    }
   ],
   "source": [
    "def create_sequences(data, H, T):\n",
    "    X, y = [], []\n",
    "    for i in range(len(data) - H - T + 1):\n",
    "        if i+H+T <= len(data):\n",
    "            X.append(data[i:i+H])\n",
    "            y.append(data[i+H+T-1:i+H+T])\n",
    "    return X, y\n",
    "# Similar to the above methods, let's now create a method that will create sequences using the data from the database with SQL queries\n",
    "\n",
    "\n",
    "def create_sequences_from_database_rows(rows, H, T, show_progress=True):\n",
    "    # Get counts of compound key\n",
    "    X, y = [], []\n",
    "    for row in tqdm(rows) if show_progress else rows:\n",
    "        if len(row) < H+T:\n",
    "            continue\n",
    "        _X, _y = create_sequences(row, H, T)\n",
    "        X.append(_X)\n",
    "        y.append(_y)\n",
    "    X = np.concatenate(X)\n",
    "    y = np.concatenate(y)\n",
    "    return X, y\n",
    "\n",
    "\n",
    "H = 3\n",
    "T = 1\n",
    "\n",
    "X, y = create_sequences_from_database_rows(data, H, T)\n",
    "\n",
    "\n",
    "X.shape, y.shape"
   ]
  },
  {
   "cell_type": "code",
   "execution_count": 12,
   "metadata": {},
   "outputs": [
    {
     "name": "stdout",
     "output_type": "stream",
     "text": [
      "Number of rows: 5029\n",
      "Average number of rows in a group: 655.4672897196261\n",
      "Number of sequences: 3281258\n",
      "Average length of a sequence: 3\n"
     ]
    },
    {
     "data": {
      "image/png": "[encoded data removed]",
      "text/plain": [
       "<Figure size 432x288 with 1 Axes>"
      ]
     },
     "metadata": {
      "needs_background": "light"
     },
     "output_type": "display_data"
    }
   ],
   "source": [
    "# Statistics about the data\n",
    "\n",
    "# How many row groups are there?\n",
    "print(f\"Number of rows: {data.shape[0]}\")\n",
    "\n",
    "# How many rows in a group on average?\n",
    "row_counts = [len(row) for row in data]\n",
    "print(f\"Average number of rows in a group: {np.mean(row_counts)}\")\n",
    "\n",
    "# Statistics about the sequences\n",
    "\n",
    "# How many sequences are there?\n",
    "print(f\"Number of sequences: {X.shape[0]}\")\n",
    "\n",
    "# Plot the rows group sizes\n",
    "\n",
    "plt.hist(row_counts, bins=20)\n",
    "plt.xlabel('Row group size')\n",
    "plt.ylabel('Frequency')\n",
    "plt.title('Row group size distribution')\n",
    "plt.show()"
   ]
  },
  {
   "cell_type": "code",
   "execution_count": 13,
   "metadata": {},
   "outputs": [
    {
     "name": "stdout",
     "output_type": "stream",
     "text": [
      "(2625006, 6) (656252, 6) (2625006, 2) (656252, 2)\n"
     ]
    }
   ],
   "source": [
    "def split_data(X, y):\n",
    "    indices = np.arange(len(X))\n",
    "    X_train, X_test, y_train, y_test, idx_train, idx_test = train_test_split(\n",
    "        X, y, indices, test_size=0.2, random_state=42, shuffle=False)\n",
    "    # Flatten the input sequences\n",
    "    X_train = X_train.reshape(X_train.shape[0], -1)\n",
    "    X_test = X_test.reshape(X_test.shape[0], -1)\n",
    "    y_train = y_train.reshape(y_train.shape[0], -1)\n",
    "    y_test = y_test.reshape(y_test.shape[0], -1)\n",
    "    return X_train, X_test, y_train, y_test, idx_train, idx_test\n",
    "\n",
    "\n",
    "X_train, X_test, y_train, y_test, idx_train, idx_test = split_data(X, y)\n",
    "\n",
    "print(X_train.shape, X_test.shape, y_train.shape, y_test.shape)"
   ]
  },
  {
   "cell_type": "markdown",
   "metadata": {},
   "source": [
    "# Models"
   ]
  },
  {
   "cell_type": "code",
   "execution_count": 75,
   "metadata": {},
   "outputs": [
    {
     "data": {
      "application/vnd.jupyter.widget-view+json": {
       "model_id": "90e8baeafa494edaa84a7b1f1334e9d5",
       "version_major": 2,
       "version_minor": 0
      },
      "text/plain": [
       "  0%|          | 0/5029 [00:00<?, ?it/s]"
      ]
     },
     "metadata": {},
     "output_type": "display_data"
    },
    {
     "name": "stdout",
     "output_type": "stream",
     "text": [
      "(2620983, 4) (2620983, 2)\n",
      "(655246, 4) (655246, 2)\n"
     ]
    }
   ],
   "source": [
    "H = 2\n",
    "T = 3\n",
    "\n",
    "X, y = create_sequences_from_database_rows(data, H, T)\n",
    "X_train, X_test, y_train, y_test, idx_train, idx_test = split_data(X, y)\n",
    "\n",
    "print(X_train.shape, y_train.shape)\n",
    "print(X_test.shape, y_test.shape)"
   ]
  },
  {
   "cell_type": "code",
   "execution_count": 76,
   "metadata": {},
   "outputs": [],
   "source": [
    "def calculate_metrics(model, X_test, y_test):\n",
    "    y_pred = model.predict(X_test)\n",
    "\n",
    "    mse = mean_squared_error(y_test, y_pred)\n",
    "    rmse = np.sqrt(mse)\n",
    "    r2 = r2_score(y_test, y_pred)\n",
    "\n",
    "    return mse, rmse, r2"
   ]
  },
  {
   "cell_type": "code",
   "execution_count": 77,
   "metadata": {},
   "outputs": [],
   "source": [
    "# Create a model that predicts the next position by taking a random step in the direction of the average velocity\n",
    "class RandomStepModel:\n",
    "    def __init__(self, H, T):\n",
    "        self.H = H\n",
    "        self.T = T\n",
    "\n",
    "    def fit(self, X_train, y_train):\n",
    "        pass\n",
    "\n",
    "    def predict(self, X_test):\n",
    "        # Assuming X_test shape is (num_samples, H*2)\n",
    "        num_samples = X_test.shape[0]\n",
    "\n",
    "        # Reshape X_test to (num_samples, H, 2)\n",
    "        X_test_reshaped = X_test.reshape(num_samples, self.H, 2)\n",
    "\n",
    "        # Get average velocity for each sequence\n",
    "        avg_velocity = (\n",
    "            X_test_reshaped[:, -1, :] - X_test_reshaped[:, 0, :]) / self.H\n",
    "\n",
    "        # Calculate the length of the step for timestep T\n",
    "        step = avg_velocity * self.T\n",
    "\n",
    "        # Calculate a random direction for each sample\n",
    "        direction = np.random.uniform(-1, 1, size=step.shape)\n",
    "\n",
    "        # Normalize the direction to ensure the step size is consistent\n",
    "        norms = np.linalg.norm(direction, axis=1, keepdims=True)\n",
    "        norms[norms == 0] = 1  # Avoid division by zero\n",
    "        direction /= norms\n",
    "\n",
    "        # Calculate the random step\n",
    "        random_step = step * direction\n",
    "\n",
    "        # Get the last position in the sequence for each sample\n",
    "        last_position = X_test_reshaped[:, -1, :]\n",
    "\n",
    "        # Calculate the prediction\n",
    "        y_pred = last_position + random_step\n",
    "\n",
    "        return y_pred"
   ]
  },
  {
   "cell_type": "code",
   "execution_count": 78,
   "metadata": {},
   "outputs": [],
   "source": [
    "# Create the model\n",
    "random_step_model = RandomStepModel(H, T)"
   ]
  },
  {
   "cell_type": "code",
   "execution_count": 79,
   "metadata": {},
   "outputs": [
    {
     "name": "stdout",
     "output_type": "stream",
     "text": [
      "Mean Squared Error (Random Walk): 0.0007258701864604271\n",
      "Root Mean Squared Error (Random Walk): 0.02694197814675877\n",
      "R-squared (Random Walk): 0.9900182747783741\n"
     ]
    }
   ],
   "source": [
    "mse_random_walk, rmse_random_walk, r2_random_walk = calculate_metrics(\n",
    "    random_step_model, X_test, y_test)\n",
    "\n",
    "\n",
    "print(f'Mean Squared Error (Random Walk): {mse_random_walk}')\n",
    "print(f'Root Mean Squared Error (Random Walk): {rmse_random_walk}')\n",
    "print(f'R-squared (Random Walk): {r2_random_walk}')\n",
    "\n",
    "# Visualize the random walk predictions\n",
    "# create_prediction_animation(X_test, y_pred_random_walk, y_test, map_image_path, zoom_range, options)"
   ]
  },
  {
   "cell_type": "code",
   "execution_count": 80,
   "metadata": {},
   "outputs": [
    {
     "name": "stdout",
     "output_type": "stream",
     "text": [
      "Mean Squared Error (Last Position): 0.0005439067371052687\n",
      "Root Mean Squared Error (Last Position): 0.023321808186872402\n",
      "R-squared (Last Position): 0.9925196593350671\n"
     ]
    }
   ],
   "source": [
    "# Create a model that selects the last position as the prediction\n",
    "\n",
    "class LastPositionModel:\n",
    "    def __init__(self, H):\n",
    "        self.H = H\n",
    "\n",
    "    def fit(self, X_train, y_train):\n",
    "        pass\n",
    "\n",
    "    def predict(self, X_test):\n",
    "        # Unflatten X_test\n",
    "        X_test_reshaped = X_test.reshape(X_test.shape[0], self.H, 2)\n",
    "        # Get the last position for each sequence\n",
    "        return X_test_reshaped[:, -1, :]\n",
    "\n",
    "\n",
    "# Create the model\n",
    "last_position_model = LastPositionModel(H)\n",
    "\n",
    "mse_last_position, rmse_last_position, r2_last_position = calculate_metrics(\n",
    "    last_position_model, X_test, y_test)\n",
    "\n",
    "print(f'Mean Squared Error (Last Position): {mse_last_position}')\n",
    "print(f'Root Mean Squared Error (Last Position): {rmse_last_position}')\n",
    "print(f'R-squared (Last Position): {r2_last_position}')"
   ]
  },
  {
   "cell_type": "code",
   "execution_count": 81,
   "metadata": {},
   "outputs": [
    {
     "name": "stdout",
     "output_type": "stream",
     "text": [
      "Mean Squared Error (Random Position): 0.1577914193008409\n",
      "Root Mean Squared Error (Random Position): 0.3972296807903973\n",
      "R-squared (Random Position): -1.1712192298443136\n"
     ]
    }
   ],
   "source": [
    "# Create a model that selects a random position from a given range as the prediction\n",
    "\n",
    "class RandomPositionModel:\n",
    "    def __init__(self, H, range_x, range_y):\n",
    "        self.H = H\n",
    "        self.range_x = range_x\n",
    "        self.range_y = range_y\n",
    "\n",
    "    def fit(self, X_train, y_train):\n",
    "        pass\n",
    "\n",
    "    def predict(self, X_test):\n",
    "        # Generate random positions for each sequence\n",
    "        x = np.random.uniform(\n",
    "            self.range_x[0], self.range_x[1], size=X_test.shape[0])\n",
    "        y = np.random.uniform(\n",
    "            self.range_y[0], self.range_y[1], size=X_test.shape[0])\n",
    "        return np.array(list(zip(x, y)))\n",
    "\n",
    "\n",
    "range_x = (0, 1)\n",
    "range_y = (0, 1)\n",
    "\n",
    "random_position_model = RandomPositionModel(H, range_x, range_y)\n",
    "\n",
    "mse_random_position, rmse_random_position, r2_random_position = calculate_metrics(\n",
    "    random_position_model, X_test, y_test)\n",
    "\n",
    "print(f'Mean Squared Error (Random Position): {mse_random_position}')\n",
    "print(f'Root Mean Squared Error (Random Position): {rmse_random_position}')\n",
    "print(f'R-squared (Random Position): {r2_random_position}')"
   ]
  },
  {
   "cell_type": "code",
   "execution_count": 88,
   "metadata": {},
   "outputs": [],
   "source": [
    "class ContinuousMotionModel:\n",
    "    def __init__(self, H, T):\n",
    "        self.H = H\n",
    "        self.T = T\n",
    "\n",
    "    def fit(self, X_train, y_train):\n",
    "        pass\n",
    "\n",
    "    def predict(self, X_test):\n",
    "        # Assuming X_test shape is (num_samples, H*2)\n",
    "        num_samples = X_test.shape[0]\n",
    "\n",
    "        # Reshape X_test to (num_samples, H, 2)\n",
    "        X_test_reshaped = X_test.reshape(num_samples, self.H, 2)\n",
    "\n",
    "        # Create weights that increase linearly\n",
    "        weights = np.linspace(1, 2, self.H)  # Example: weights from 1 to 2\n",
    "        weights /= weights.sum()  # Normalize weights to sum to 1\n",
    "\n",
    "        # Get weighted average velocity for each sequence\n",
    "        weighted_positions = X_test_reshaped * weights[:, np.newaxis]\n",
    "        weighted_avg_velocity = (\n",
    "            weighted_positions.sum(axis=1) - X_test_reshaped[:, 0, :]\n",
    "        ) / self.H\n",
    "\n",
    "        # Calculate the length of the step for timestep T\n",
    "        step = weighted_avg_velocity * self.T\n",
    "\n",
    "        # Get the last position in the sequence for each sample\n",
    "        last_position = X_test_reshaped[:, -1, :]\n",
    "\n",
    "        # Calculate the prediction\n",
    "        y_pred = last_position + step\n",
    "\n",
    "        return y_pred"
   ]
  },
  {
   "cell_type": "code",
   "execution_count": 89,
   "metadata": {},
   "outputs": [
    {
     "name": "stdout",
     "output_type": "stream",
     "text": [
      "Mean Squared Error (Continuous Motion): 0.0006461058959709354\n",
      "Root Mean Squared Error (Continuous Motion): 0.025418613179537065\n",
      "R-squared (Continuous Motion): 0.9911152412436164\n"
     ]
    }
   ],
   "source": [
    "continuous_motion_model = ContinuousMotionModel(H, T)\n",
    "\n",
    "mse_continuous_motion, rmse_continuous_motion, r2_continuous_motion = calculate_metrics(\n",
    "    continuous_motion_model, X_test, y_test)\n",
    "\n",
    "print(f'Mean Squared Error (Continuous Motion): {mse_continuous_motion}')\n",
    "print(f'Root Mean Squared Error (Continuous Motion): {rmse_continuous_motion}')\n",
    "print(f'R-squared (Continuous Motion): {r2_continuous_motion}')"
   ]
  },
  {
   "cell_type": "markdown",
   "metadata": {},
   "source": [
    "# Model Comparison"
   ]
  },
  {
   "cell_type": "code",
   "execution_count": 62,
   "metadata": {},
   "outputs": [],
   "source": [
    "def calculate_sequences_in_batches(H_values, T_values, data, batch_size=1000, split=True, test_size=0.2, random_state=None, show_progress=True):\n",
    "    sequences = {}\n",
    "\n",
    "    def create_sequences(data, H, T):\n",
    "        num_sequences = len(data) - H - T + 1\n",
    "        if num_sequences <= 0:\n",
    "            return np.array([]), np.array([])\n",
    "\n",
    "        X = np.lib.stride_tricks.sliding_window_view(\n",
    "            data, window_shape=(H, data.shape[1]))[:-T]\n",
    "        y = data[H+T-1:num_sequences+H+T-1]\n",
    "\n",
    "        return X, y\n",
    "\n",
    "    def create_sequences_from_database_rows(rows, H, T):\n",
    "        X_list, y_list = [], []\n",
    "        for i in range(0, len(rows), batch_size):\n",
    "            batch = rows[i:i+batch_size]\n",
    "            for row in batch:\n",
    "                if len(row) < H + T:\n",
    "                    continue\n",
    "                _X, _y = create_sequences(np.array(row), H, T)\n",
    "                if _X.size > 0 and _y.size > 0:\n",
    "                    X_list.append(_X)\n",
    "                    y_list.append(_y)\n",
    "\n",
    "        if X_list and y_list:\n",
    "            X = np.concatenate(X_list, axis=0)\n",
    "            y = np.concatenate(y_list, axis=0)\n",
    "        else:\n",
    "            X, y = np.array([]), np.array([])\n",
    "\n",
    "        return X, y\n",
    "\n",
    "    for H in tqdm(H_values, desc='H loop', leave=False):\n",
    "        for T in tqdm(T_values, desc='T loop', leave=False):\n",
    "            X, y = create_sequences_from_database_rows(data, H, T)\n",
    "            if X.size > 0 and y.size > 0:\n",
    "                if split:\n",
    "                    X_train, X_test, y_train, y_test = train_test_split(\n",
    "                        X, y, test_size=test_size, random_state=random_state)\n",
    "                    sequences[(H, T)] = (X_train, X_test, y_train, y_test)\n",
    "                else:\n",
    "                    sequences[(H, T)] = (X, None, y, None)\n",
    "            else:\n",
    "                sequences[(H, T)] = (None, None, None, None)\n",
    "\n",
    "    return sequences"
   ]
  },
  {
   "cell_type": "code",
   "execution_count": 101,
   "metadata": {},
   "outputs": [],
   "source": [
    "# Compare all four models\n",
    "\n",
    "def compare_models(H_values, T_values, data, model_getters, train=True):\n",
    "    absolute_errors = defaultdict(list)\n",
    "    rmse_results = defaultdict(int)\n",
    "    trained_models = {}\n",
    "    pbar = tqdm(total=len(H_values) * len(T_values) *\n",
    "                len(model_getters), desc='Model loop')\n",
    "    for H in H_values:\n",
    "        for T in tqdm(T_values, desc=f'H={H}', leave=False):\n",
    "            # Calculate the sequence on the fly\n",
    "            sequence = calculate_sequences_in_batches(\n",
    "                [H], [T], data, split=False, show_progress=False)[(H, T)]\n",
    "            X_train, X_test, y_train, y_test = sequence\n",
    "            models = {model_name: model_getter(\n",
    "                H, T) for model_name, model_getter in model_getters.items()}\n",
    "            for model_name, model in tqdm(models.items(), desc=f'T={T}', leave=False):\n",
    "                X_train_reshaped = X_train.reshape(X_train.shape[0], -1)\n",
    "                model.fit(X_train_reshaped, y_train)\n",
    "                y_pred = model.predict(X_train_reshaped)\n",
    "                rmse = root_mean_squared_error(y_train, y_pred)\n",
    "                rmse_results[(H, T, model_name)] += rmse\n",
    "                absolute_errors[(H, T, model_name)] = np.abs(y_train - y_pred)\n",
    "                if train:\n",
    "                    trained_models[(H, T, model_name)] = model\n",
    "                pbar.update(1)\n",
    "    pbar.close()\n",
    "    return trained_models, rmse_results, absolute_errors"
   ]
  },
  {
   "cell_type": "code",
   "execution_count": 152,
   "metadata": {},
   "outputs": [],
   "source": [
    "# H values on a logarithmic scale\n",
    "H_values = [100, 200, 300]\n",
    "T_values = [50, 100, 150]\n",
    "\n",
    "# sequence_data = calculate_sequences_in_batches(H_values, T_values, data)\n",
    "\n",
    "# print(f\"Calculated sequences for {len(sequence_data)} combinations of H and T\")"
   ]
  },
  {
   "cell_type": "code",
   "execution_count": 153,
   "metadata": {},
   "outputs": [],
   "source": [
    "model_getters = {\n",
    "    # 'Linear Model': lambda H, T: LinearRegression(),\n",
    "    # 'Random Step Model': lambda H, T: RandomStepModel(H, T),\n",
    "    'Last Position Model': lambda H, T: LastPositionModel(H),\n",
    "    # 'Random Position Model': lambda H, T: RandomPositionModel(H, normalized_zoom_range[0], normalized_zoom_range[1]),\n",
    "    # 'Continuous Motion Model': lambda H, T: ContinuousMotionModel(H, T)\n",
    "}"
   ]
  },
  {
   "cell_type": "code",
   "execution_count": 154,
   "metadata": {},
   "outputs": [
    {
     "data": {
      "application/vnd.jupyter.widget-view+json": {
       "model_id": "fc325070f54a472ba73a5b1ad5488427",
       "version_major": 2,
       "version_minor": 0
      },
      "text/plain": [
       "Model loop:   0%|          | 0/9 [00:00<?, ?it/s]"
      ]
     },
     "metadata": {},
     "output_type": "display_data"
    },
    {
     "data": {
      "application/vnd.jupyter.widget-view+json": {
       "model_id": "2bf4b6e9b0d04e7782bbb6d89503ebb4",
       "version_major": 2,
       "version_minor": 0
      },
      "text/plain": [
       "H=100:   0%|          | 0/3 [00:00<?, ?it/s]"
      ]
     },
     "metadata": {},
     "output_type": "display_data"
    },
    {
     "data": {
      "application/vnd.jupyter.widget-view+json": {
       "model_id": "eb7128d7f4fa41ccb536e93d9e2a197c",
       "version_major": 2,
       "version_minor": 0
      },
      "text/plain": [
       "H loop:   0%|          | 0/1 [00:00<?, ?it/s]"
      ]
     },
     "metadata": {},
     "output_type": "display_data"
    },
    {
     "data": {
      "application/vnd.jupyter.widget-view+json": {
       "model_id": "6bdc00cde40b4012b337c0ec4d636b32",
       "version_major": 2,
       "version_minor": 0
      },
      "text/plain": [
       "T loop:   0%|          | 0/1 [00:00<?, ?it/s]"
      ]
     },
     "metadata": {},
     "output_type": "display_data"
    },
    {
     "data": {
      "application/vnd.jupyter.widget-view+json": {
       "model_id": "1fde2326a7274a4aa321528c3082f59c",
       "version_major": 2,
       "version_minor": 0
      },
      "text/plain": [
       "T=50:   0%|          | 0/1 [00:00<?, ?it/s]"
      ]
     },
     "metadata": {},
     "output_type": "display_data"
    },
    {
     "data": {
      "application/vnd.jupyter.widget-view+json": {
       "model_id": "b8a6f5689fa044858192318c44e51eb7",
       "version_major": 2,
       "version_minor": 0
      },
      "text/plain": [
       "H loop:   0%|          | 0/1 [00:00<?, ?it/s]"
      ]
     },
     "metadata": {},
     "output_type": "display_data"
    },
    {
     "data": {
      "application/vnd.jupyter.widget-view+json": {
       "model_id": "2c011e143f9842228bcd10e5e3a6df36",
       "version_major": 2,
       "version_minor": 0
      },
      "text/plain": [
       "T loop:   0%|          | 0/1 [00:00<?, ?it/s]"
      ]
     },
     "metadata": {},
     "output_type": "display_data"
    },
    {
     "data": {
      "application/vnd.jupyter.widget-view+json": {
       "model_id": "6ec1643f912a4fc5a819102f65d9f3ba",
       "version_major": 2,
       "version_minor": 0
      },
      "text/plain": [
       "T=100:   0%|          | 0/1 [00:00<?, ?it/s]"
      ]
     },
     "metadata": {},
     "output_type": "display_data"
    },
    {
     "data": {
      "application/vnd.jupyter.widget-view+json": {
       "model_id": "abc1c5dab9a04c329763d2e81c02093a",
       "version_major": 2,
       "version_minor": 0
      },
      "text/plain": [
       "H loop:   0%|          | 0/1 [00:00<?, ?it/s]"
      ]
     },
     "metadata": {},
     "output_type": "display_data"
    },
    {
     "data": {
      "application/vnd.jupyter.widget-view+json": {
       "model_id": "1e4ff1d8bcad4bbaa2f9492448d66beb",
       "version_major": 2,
       "version_minor": 0
      },
      "text/plain": [
       "T loop:   0%|          | 0/1 [00:00<?, ?it/s]"
      ]
     },
     "metadata": {},
     "output_type": "display_data"
    },
    {
     "data": {
      "application/vnd.jupyter.widget-view+json": {
       "model_id": "c9ccab02ba4f4b65a8db53cce6461e4d",
       "version_major": 2,
       "version_minor": 0
      },
      "text/plain": [
       "T=150:   0%|          | 0/1 [00:00<?, ?it/s]"
      ]
     },
     "metadata": {},
     "output_type": "display_data"
    },
    {
     "data": {
      "application/vnd.jupyter.widget-view+json": {
       "model_id": "03cd4e59785b4d1ca8021698e6377d40",
       "version_major": 2,
       "version_minor": 0
      },
      "text/plain": [
       "H=200:   0%|          | 0/3 [00:00<?, ?it/s]"
      ]
     },
     "metadata": {},
     "output_type": "display_data"
    },
    {
     "data": {
      "application/vnd.jupyter.widget-view+json": {
       "model_id": "ea481eeab01f4f20b6f55cf0793ee5f6",
       "version_major": 2,
       "version_minor": 0
      },
      "text/plain": [
       "H loop:   0%|          | 0/1 [00:00<?, ?it/s]"
      ]
     },
     "metadata": {},
     "output_type": "display_data"
    },
    {
     "data": {
      "application/vnd.jupyter.widget-view+json": {
       "model_id": "92b08fe5b3f641b0bd513f35c0b75b23",
       "version_major": 2,
       "version_minor": 0
      },
      "text/plain": [
       "T loop:   0%|          | 0/1 [00:00<?, ?it/s]"
      ]
     },
     "metadata": {},
     "output_type": "display_data"
    },
    {
     "data": {
      "application/vnd.jupyter.widget-view+json": {
       "model_id": "ec90931960f54ed1b349469ee5cc7db6",
       "version_major": 2,
       "version_minor": 0
      },
      "text/plain": [
       "T=50:   0%|          | 0/1 [00:00<?, ?it/s]"
      ]
     },
     "metadata": {},
     "output_type": "display_data"
    },
    {
     "data": {
      "application/vnd.jupyter.widget-view+json": {
       "model_id": "0136c855b76640e48a71a8ddabffb161",
       "version_major": 2,
       "version_minor": 0
      },
      "text/plain": [
       "H loop:   0%|          | 0/1 [00:00<?, ?it/s]"
      ]
     },
     "metadata": {},
     "output_type": "display_data"
    },
    {
     "data": {
      "application/vnd.jupyter.widget-view+json": {
       "model_id": "9155665175a14a5187149c839e1991c2",
       "version_major": 2,
       "version_minor": 0
      },
      "text/plain": [
       "T loop:   0%|          | 0/1 [00:00<?, ?it/s]"
      ]
     },
     "metadata": {},
     "output_type": "display_data"
    },
    {
     "data": {
      "application/vnd.jupyter.widget-view+json": {
       "model_id": "0f59e08bded74b4991f114cb476dbc69",
       "version_major": 2,
       "version_minor": 0
      },
      "text/plain": [
       "T=100:   0%|          | 0/1 [00:00<?, ?it/s]"
      ]
     },
     "metadata": {},
     "output_type": "display_data"
    },
    {
     "data": {
      "application/vnd.jupyter.widget-view+json": {
       "model_id": "f9eaf5ca7faa4be5a9c6b633f6cec169",
       "version_major": 2,
       "version_minor": 0
      },
      "text/plain": [
       "H loop:   0%|          | 0/1 [00:00<?, ?it/s]"
      ]
     },
     "metadata": {},
     "output_type": "display_data"
    },
    {
     "data": {
      "application/vnd.jupyter.widget-view+json": {
       "model_id": "6cdfbb8e1eaf4601b96251b3d600b52b",
       "version_major": 2,
       "version_minor": 0
      },
      "text/plain": [
       "T loop:   0%|          | 0/1 [00:00<?, ?it/s]"
      ]
     },
     "metadata": {},
     "output_type": "display_data"
    },
    {
     "data": {
      "application/vnd.jupyter.widget-view+json": {
       "model_id": "a5d691f3e3b547f5b23cd3465cfc845c",
       "version_major": 2,
       "version_minor": 0
      },
      "text/plain": [
       "T=150:   0%|          | 0/1 [00:00<?, ?it/s]"
      ]
     },
     "metadata": {},
     "output_type": "display_data"
    },
    {
     "data": {
      "application/vnd.jupyter.widget-view+json": {
       "model_id": "bb5bee7ccb84404dafb699a897c52ca1",
       "version_major": 2,
       "version_minor": 0
      },
      "text/plain": [
       "H=300:   0%|          | 0/3 [00:00<?, ?it/s]"
      ]
     },
     "metadata": {},
     "output_type": "display_data"
    },
    {
     "data": {
      "application/vnd.jupyter.widget-view+json": {
       "model_id": "3f60fe6a347442d1af55907e19677b80",
       "version_major": 2,
       "version_minor": 0
      },
      "text/plain": [
       "H loop:   0%|          | 0/1 [00:00<?, ?it/s]"
      ]
     },
     "metadata": {},
     "output_type": "display_data"
    },
    {
     "data": {
      "application/vnd.jupyter.widget-view+json": {
       "model_id": "22b10d3260084de7938de24784f6981a",
       "version_major": 2,
       "version_minor": 0
      },
      "text/plain": [
       "T loop:   0%|          | 0/1 [00:00<?, ?it/s]"
      ]
     },
     "metadata": {},
     "output_type": "display_data"
    },
    {
     "data": {
      "application/vnd.jupyter.widget-view+json": {
       "model_id": "7fe4dd3287084c058c9cee10ac43b81b",
       "version_major": 2,
       "version_minor": 0
      },
      "text/plain": [
       "T=50:   0%|          | 0/1 [00:00<?, ?it/s]"
      ]
     },
     "metadata": {},
     "output_type": "display_data"
    },
    {
     "data": {
      "application/vnd.jupyter.widget-view+json": {
       "model_id": "c4cce4f8b48c4899980d97ec22e76ebe",
       "version_major": 2,
       "version_minor": 0
      },
      "text/plain": [
       "H loop:   0%|          | 0/1 [00:00<?, ?it/s]"
      ]
     },
     "metadata": {},
     "output_type": "display_data"
    },
    {
     "data": {
      "application/vnd.jupyter.widget-view+json": {
       "model_id": "53a3cfa7e80441f3bd4d96c9a0e9ef63",
       "version_major": 2,
       "version_minor": 0
      },
      "text/plain": [
       "T loop:   0%|          | 0/1 [00:00<?, ?it/s]"
      ]
     },
     "metadata": {},
     "output_type": "display_data"
    },
    {
     "data": {
      "application/vnd.jupyter.widget-view+json": {
       "model_id": "ffca10558ff44399895dd52d1d5cd111",
       "version_major": 2,
       "version_minor": 0
      },
      "text/plain": [
       "T=100:   0%|          | 0/1 [00:00<?, ?it/s]"
      ]
     },
     "metadata": {},
     "output_type": "display_data"
    },
    {
     "data": {
      "application/vnd.jupyter.widget-view+json": {
       "model_id": "24fdf193d60c454f8dd39525b8601df5",
       "version_major": 2,
       "version_minor": 0
      },
      "text/plain": [
       "H loop:   0%|          | 0/1 [00:00<?, ?it/s]"
      ]
     },
     "metadata": {},
     "output_type": "display_data"
    },
    {
     "data": {
      "application/vnd.jupyter.widget-view+json": {
       "model_id": "1a32271c3a3c4d3f9fa7a8ad64c7b0ad",
       "version_major": 2,
       "version_minor": 0
      },
      "text/plain": [
       "T loop:   0%|          | 0/1 [00:00<?, ?it/s]"
      ]
     },
     "metadata": {},
     "output_type": "display_data"
    },
    {
     "data": {
      "application/vnd.jupyter.widget-view+json": {
       "model_id": "594140106d904e718791fc0067e25b1d",
       "version_major": 2,
       "version_minor": 0
      },
      "text/plain": [
       "T=150:   0%|          | 0/1 [00:00<?, ?it/s]"
      ]
     },
     "metadata": {},
     "output_type": "display_data"
    },
    {
     "data": {
      "text/html": [
       "<div>\n",
       "<style scoped>\n",
       "    .dataframe tbody tr th:only-of-type {\n",
       "        vertical-align: middle;\n",
       "    }\n",
       "\n",
       "    .dataframe tbody tr th {\n",
       "        vertical-align: top;\n",
       "    }\n",
       "\n",
       "    .dataframe thead th {\n",
       "        text-align: right;\n",
       "    }\n",
       "</style>\n",
       "<table border=\"1\" class=\"dataframe\">\n",
       "  <thead>\n",
       "    <tr style=\"text-align: right;\">\n",
       "      <th></th>\n",
       "      <th></th>\n",
       "      <th></th>\n",
       "      <th>Root Mean Squared Error</th>\n",
       "    </tr>\n",
       "    <tr>\n",
       "      <th>H</th>\n",
       "      <th>T</th>\n",
       "      <th>Model</th>\n",
       "      <th></th>\n",
       "    </tr>\n",
       "  </thead>\n",
       "  <tbody>\n",
       "    <tr>\n",
       "      <th rowspan=\"3\" valign=\"top\">100</th>\n",
       "      <th>50</th>\n",
       "      <th>Last Position Model</th>\n",
       "      <td>0.105613</td>\n",
       "    </tr>\n",
       "    <tr>\n",
       "      <th>100</th>\n",
       "      <th>Last Position Model</th>\n",
       "      <td>0.144080</td>\n",
       "    </tr>\n",
       "    <tr>\n",
       "      <th>150</th>\n",
       "      <th>Last Position Model</th>\n",
       "      <td>0.165712</td>\n",
       "    </tr>\n",
       "    <tr>\n",
       "      <th rowspan=\"3\" valign=\"top\">200</th>\n",
       "      <th>50</th>\n",
       "      <th>Last Position Model</th>\n",
       "      <td>0.098964</td>\n",
       "    </tr>\n",
       "    <tr>\n",
       "      <th>100</th>\n",
       "      <th>Last Position Model</th>\n",
       "      <td>0.135825</td>\n",
       "    </tr>\n",
       "    <tr>\n",
       "      <th>150</th>\n",
       "      <th>Last Position Model</th>\n",
       "      <td>0.159395</td>\n",
       "    </tr>\n",
       "    <tr>\n",
       "      <th rowspan=\"3\" valign=\"top\">300</th>\n",
       "      <th>50</th>\n",
       "      <th>Last Position Model</th>\n",
       "      <td>0.093700</td>\n",
       "    </tr>\n",
       "    <tr>\n",
       "      <th>100</th>\n",
       "      <th>Last Position Model</th>\n",
       "      <td>0.127286</td>\n",
       "    </tr>\n",
       "    <tr>\n",
       "      <th>150</th>\n",
       "      <th>Last Position Model</th>\n",
       "      <td>0.145668</td>\n",
       "    </tr>\n",
       "  </tbody>\n",
       "</table>\n",
       "</div>"
      ],
      "text/plain": [
       "                             Root Mean Squared Error\n",
       "H   T   Model                                       \n",
       "100 50  Last Position Model                 0.105613\n",
       "    100 Last Position Model                 0.144080\n",
       "    150 Last Position Model                 0.165712\n",
       "200 50  Last Position Model                 0.098964\n",
       "    100 Last Position Model                 0.135825\n",
       "    150 Last Position Model                 0.159395\n",
       "300 50  Last Position Model                 0.093700\n",
       "    100 Last Position Model                 0.127286\n",
       "    150 Last Position Model                 0.145668"
      ]
     },
     "execution_count": 154,
     "metadata": {},
     "output_type": "execute_result"
    }
   ],
   "source": [
    "trained_models, rmse_results, absolute_errors = compare_models(\n",
    "    H_values, T_values, data, model_getters)\n",
    "\n",
    "results_table = pd.DataFrame(rmse_results, index=['Root Mean Squared Error']).T\n",
    "results_table.index.names = ['H', 'T', 'Model']\n",
    "results_table = results_table.sort_index()\n",
    "results_table"
   ]
  },
  {
   "cell_type": "code",
   "execution_count": 155,
   "metadata": {},
   "outputs": [
    {
     "data": {
      "image/png": "[encoded data removed]",
      "text/plain": [
       "<Figure size 720x720 with 1 Axes>"
      ]
     },
     "metadata": {
      "needs_background": "light"
     },
     "output_type": "display_data"
    }
   ],
   "source": [
    "LOG_PLOT = True\n",
    "\n",
    "# Plot the results table, one table per model\n",
    "subplot_amount = len(model_getters)\n",
    "# If just a single value combination per model, plot them all in a bar chart\n",
    "if len(H_values) == 1 and len(T_values) == 1:\n",
    "    fig, ax = plt.subplots(1, 1, figsize=(10, 10))\n",
    "    results_table.unstack().plot(ax=ax, kind='bar', logy=LOG_PLOT)\n",
    "    ax.set_xlabel('H')\n",
    "    ax.set_ylabel('RMSE')\n",
    "    ax.legend(title='T')\n",
    "else:\n",
    "    # If just one T value, plot all models in the same plot\n",
    "    if len(T_values) == 1:\n",
    "        # The X-axis is currently tuple, take the first value only to have a single value\n",
    "        results_table.xs(T_values[0], level='T').unstack().plot(\n",
    "            kind='line', logy=LOG_PLOT)\n",
    "\n",
    "        plt.xlabel('H')\n",
    "        plt.ylabel('RMSE')\n",
    "        plt.legend(title='T')\n",
    "    elif len(H_values) == 1:\n",
    "        # If just one H value, plot all models in the same plot\n",
    "        results_table.xs(H_values[0], level='H').unstack().plot(\n",
    "            kind='line', logy=LOG_PLOT)\n",
    "\n",
    "        plt.xlabel('T')\n",
    "        plt.ylabel('RMSE')\n",
    "        plt.legend(title=f'H={H_values[0]}')\n",
    "    else:\n",
    "        fig, axs = plt.subplots(\n",
    "            subplot_amount, 1, figsize=(10, 10*subplot_amount))\n",
    "        for i, model_name in enumerate(model_getters.keys()):\n",
    "            # Plot the results for the model, H on the x-axis, RMSE on the y-axis, and different lines for different T\n",
    "            results_table.xs(model_name, level='Model').unstack().plot(\n",
    "                ax=axs[i] if subplot_amount > 1 else axs, title=model_name, logy=LOG_PLOT)\n",
    "            (axs[i] if subplot_amount > 1 else axs).set_xlabel('H')\n",
    "            (axs[i] if subplot_amount > 1 else axs).set_ylabel('RMSE')\n",
    "            (axs[i] if subplot_amount > 1 else axs).legend(title='T')\n",
    "\n",
    "plt.tight_layout()"
   ]
  },
  {
   "cell_type": "code",
   "execution_count": 181,
   "metadata": {},
   "outputs": [
    {
     "data": {
      "image/png": "[encoded data removed]",
      "text/plain": [
       "<Figure size 1080x720 with 9 Axes>"
      ]
     },
     "metadata": {
      "needs_background": "light"
     },
     "output_type": "display_data"
    }
   ],
   "source": [
    "# Plot the distribution of absolute errors for each model\n",
    "if len(H_values) == 1 and len(T_values) == 1:\n",
    "    fig, ax = plt.subplots(1, 1, figsize=(10, 10))\n",
    "    for (H, T, name), errors in absolute_errors.items():\n",
    "        errors = errors.flatten()\n",
    "        ax.hist(errors, bins=100, alpha=0.5,\n",
    "                label=f'H={H}, T={T}', range=(0, 1), log=True)\n",
    "    ax.set_xlabel('Absolute Error')\n",
    "    ax.set_ylabel('Frequency')\n",
    "    ax.legend()\n",
    "elif len(T_values) == 1:\n",
    "    fig, axs = plt.subplots(\n",
    "        len(H_values), 1, figsize=(10, 10*len(H_values)))\n",
    "    for i, model_name in enumerate(model_getters.keys()):\n",
    "        for (H, T, name), errors in [item for item in absolute_errors.items() if item[0][2] == model_name]:\n",
    "            errors = errors.flatten()\n",
    "            axs[i].hist(errors, bins=100, alpha=0.5,\n",
    "                        label=f'{name} H={H}', range=(0, 1), log=True)\n",
    "        axs[i].set_title(f'{model_name}')\n",
    "        axs[i].set_xlabel('Absolute Error')\n",
    "        axs[i].set_ylabel('Frequency')\n",
    "        axs[i].legend()\n",
    "elif len(H_values) == 1:\n",
    "    fig, axs = plt.subplots(\n",
    "        len(T_values), 1, figsize=(10, 10*len(T_values)))\n",
    "    for i, model_name in enumerate(model_getters.keys()):\n",
    "        for (H, T, name), errors in [item for item in absolute_errors.items() if item[0][2] == model_name]:\n",
    "            errors = errors.flatten()\n",
    "            axs[i].hist(errors, bins=100, alpha=0.5,\n",
    "                        label=f'{name} T={T}', range=(0, 1), log=True)\n",
    "        axs[i].set_title(f'{model_name}')\n",
    "        axs[i].set_xlabel('Absolute Error')\n",
    "        axs[i].set_ylabel('Frequency')\n",
    "        axs[i].legend()\n",
    "else:\n",
    "    for i, model_name in enumerate(model_getters.keys()):\n",
    "        # Determine the number of rows and columns for the subplots\n",
    "        num_rows = len(H_values)\n",
    "        num_cols = len(T_values)\n",
    "\n",
    "        # Create a figure and a grid of subplots\n",
    "        fig, axs = plt.subplots(num_rows, num_cols, figsize=(\n",
    "            15, 10), constrained_layout=True)\n",
    "\n",
    "        for i, H in enumerate(H_values):\n",
    "            for j, T in enumerate(T_values):\n",
    "                ax = axs[i, j]\n",
    "                errors = absolute_errors[(H, T, model_name)]\n",
    "                ax.hist(errors, bins=100, alpha=0.5, range=(0, 1), log=True)\n",
    "                ax.set_title(f'H={H}, T={T}')\n",
    "                ax.set_xlabel('Absolute Error')\n",
    "                ax.set_ylabel('Frequency')\n",
    "\n",
    "        plt.suptitle('Distribution of Absolute Errors for ' + model_name)\n",
    "        plt.show()"
   ]
  },
  {
   "cell_type": "code",
   "execution_count": 157,
   "metadata": {},
   "outputs": [],
   "source": [
    "# Animate first 5 predictions for each model\n",
    "\n",
    "def create_prediction_animation_for_models(trained_models, data, map_image_path, zoom_range, options={}):\n",
    "    \"\"\"\n",
    "    Create an animation of the player positions and future predictions on the map for each model.\n",
    "\n",
    "    Args:\n",
    "    trained_models (dict): A dictionary of trained models\n",
    "    H (int): The length of the input sequence\n",
    "    T (int): The length of the target sequence\n",
    "    data (dict): A dictionary of games\n",
    "    map_image_path (str): The path to the map image\n",
    "    zoom_range (tuple): The x and y limits to zoom in to\n",
    "    options (dict): Additional options for the plot:\n",
    "        - figsize (tuple): The size of the plot\n",
    "        - title (str): The title of the plot\n",
    "        - inputPointsSize (int[]): Array of sizes for the input points\n",
    "        - predictionPointsSize (int[]): Array of sizes for the prediction points\n",
    "        - truthPointsSize (int[]): Array of sizes for the truth points\n",
    "        - inputPointsColor (str[]): Array of colors for the input points\n",
    "        - predictionPointsColor (str[]): Array of colors for the prediction points\n",
    "        - truthPointsColor (str[]): Array of colors for the truth points\n",
    "        - padding (int): The padding to add to the zoom range\n",
    "        - speed (int): The speed of the animation\n",
    "    \"\"\"\n",
    "    for i, (model_name, model) in enumerate(trained_models.items()):\n",
    "        H, T, _ = model_name\n",
    "        X_train, X_test, y_train, y_test, _, _ = sequence_data[(H, T)]\n",
    "        model.fit(X_train, y_train)\n",
    "        y_pred = model.predict(X_test)\n",
    "        options['title'] = model_name\n",
    "        create_prediction_animation(\n",
    "            X_test, y_pred, y_test, map_image_path, zoom_range, options)\n",
    "    plt.tight_layout()\n",
    "\n",
    "\n",
    "# create_prediction_animation_for_models(\n",
    "#     trained_models, data, map_image_path, zoom_range, options)"
   ]
  },
  {
   "cell_type": "code",
   "execution_count": 158,
   "metadata": {},
   "outputs": [],
   "source": [
    "# Save models to disk\n",
    "\n",
    "for (H, T, model_name), model in trained_models.items():\n",
    "    joblib.dump(\n",
    "        model, f'models/{model_name.replace(\" \", \"_\")}_H_{H}_T_{T}.joblib')"
   ]
  },
  {
   "cell_type": "code",
   "execution_count": 159,
   "metadata": {},
   "outputs": [],
   "source": [
    "# Load models from disk - get models and load them into the trained_models dictionary\n",
    "\n",
    "# Get all H and T values from the file names\n",
    "import os\n",
    "import re\n",
    "\n",
    "loaded_models = {}\n",
    "\n",
    "model_files = os.listdir('models')\n",
    "model_files = [file for file in model_files if file.endswith('.joblib')]\n",
    "pattern = re.compile(r'(\\w+)_(\\d+)_(\\d+).joblib')\n",
    "for file in model_files:\n",
    "    match = pattern.match(file)\n",
    "    if match:\n",
    "        model_name, H, T = match.groups()\n",
    "        H = int(H)\n",
    "        T = int(T)\n",
    "        model = joblib.load(f'models/{file}')\n",
    "        loaded_models[(H, T, model_name)] = model"
   ]
  },
  {
   "cell_type": "code",
   "execution_count": 160,
   "metadata": {},
   "outputs": [],
   "source": [
    "# Create a small example prediction animation for each model\n",
    "# example_data = data[:5]\n",
    "\n",
    "# trained_models = {key: trained_models[key]\n",
    "#                   for key in list(trained_models.keys())[:4]}\n",
    "# create_prediction_animation_for_models(\n",
    "#     trained_models, example_data, map_image_path, zoom_range, options)"
   ]
  }
 ],
 "metadata": {
  "kernelspec": {
   "display_name": "venv",
   "language": "python",
   "name": "python3"
  },
  "language_info": {
   "codemirror_mode": {
    "name": "ipython",
    "version": 3
   },
   "file_extension": ".py",
   "mimetype": "text/x-python",
   "name": "python",
   "nbconvert_exporter": "python",
   "pygments_lexer": "ipython3",
   "version": "3.10.12"
  }
 },
 "nbformat": 4,
 "nbformat_minor": 2
}
